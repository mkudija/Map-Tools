{
 "cells": [
  {
   "cell_type": "code",
   "execution_count": 1,
   "metadata": {
    "collapsed": false
   },
   "outputs": [
    {
     "data": {
      "text/html": [
       "<div>\n",
       "<table border=\"1\" class=\"dataframe\">\n",
       "  <thead>\n",
       "    <tr style=\"text-align: right;\">\n",
       "      <th></th>\n",
       "      <th>Name_Orig</th>\n",
       "      <th>Lat_Orig</th>\n",
       "      <th>Lng_Orig</th>\n",
       "      <th>Name_Des</th>\n",
       "      <th>Lat_Des</th>\n",
       "      <th>Lng_Des</th>\n",
       "      <th>Distance (nm)</th>\n",
       "      <th>Distance (mi)</th>\n",
       "      <th>Distance (km)</th>\n",
       "    </tr>\n",
       "  </thead>\n",
       "  <tbody>\n",
       "    <tr>\n",
       "      <th>21</th>\n",
       "      <td>Columbus, OH</td>\n",
       "      <td>39.961</td>\n",
       "      <td>-82.999</td>\n",
       "      <td>Dublin, Ireland</td>\n",
       "      <td>53.350</td>\n",
       "      <td>-6.260</td>\n",
       "      <td>3110.3</td>\n",
       "      <td>3579.3</td>\n",
       "      <td>5760.3</td>\n",
       "    </tr>\n",
       "    <tr>\n",
       "      <th>22</th>\n",
       "      <td>Columbus, OH</td>\n",
       "      <td>39.961</td>\n",
       "      <td>-82.999</td>\n",
       "      <td>Fort Worth, TX</td>\n",
       "      <td>32.755</td>\n",
       "      <td>-97.331</td>\n",
       "      <td>816.3</td>\n",
       "      <td>939.3</td>\n",
       "      <td>1511.7</td>\n",
       "    </tr>\n",
       "    <tr>\n",
       "      <th>23</th>\n",
       "      <td>Columbus, OH</td>\n",
       "      <td>39.961</td>\n",
       "      <td>-82.999</td>\n",
       "      <td>Wooster, OH</td>\n",
       "      <td>40.805</td>\n",
       "      <td>-81.935</td>\n",
       "      <td>70.3</td>\n",
       "      <td>80.9</td>\n",
       "      <td>130.1</td>\n",
       "    </tr>\n",
       "    <tr>\n",
       "      <th>24</th>\n",
       "      <td>Columbus, OH</td>\n",
       "      <td>39.961</td>\n",
       "      <td>-82.999</td>\n",
       "      <td>Gambier, OH</td>\n",
       "      <td>40.376</td>\n",
       "      <td>-82.397</td>\n",
       "      <td>37.2</td>\n",
       "      <td>42.8</td>\n",
       "      <td>68.9</td>\n",
       "    </tr>\n",
       "    <tr>\n",
       "      <th>25</th>\n",
       "      <td>Columbus, OH</td>\n",
       "      <td>39.961</td>\n",
       "      <td>-82.999</td>\n",
       "      <td>Norwalk, CT</td>\n",
       "      <td>41.118</td>\n",
       "      <td>-73.408</td>\n",
       "      <td>443.9</td>\n",
       "      <td>510.9</td>\n",
       "      <td>822.1</td>\n",
       "    </tr>\n",
       "  </tbody>\n",
       "</table>\n",
       "</div>"
      ],
      "text/plain": [
       "       Name_Orig  Lat_Orig  Lng_Orig         Name_Des  Lat_Des  Lng_Des  \\\n",
       "21  Columbus, OH    39.961   -82.999  Dublin, Ireland   53.350   -6.260   \n",
       "22  Columbus, OH    39.961   -82.999   Fort Worth, TX   32.755  -97.331   \n",
       "23  Columbus, OH    39.961   -82.999      Wooster, OH   40.805  -81.935   \n",
       "24  Columbus, OH    39.961   -82.999      Gambier, OH   40.376  -82.397   \n",
       "25  Columbus, OH    39.961   -82.999      Norwalk, CT   41.118  -73.408   \n",
       "\n",
       "    Distance (nm)  Distance (mi)  Distance (km)  \n",
       "21         3110.3         3579.3         5760.3  \n",
       "22          816.3          939.3         1511.7  \n",
       "23           70.3           80.9          130.1  \n",
       "24           37.2           42.8           68.9  \n",
       "25          443.9          510.9          822.1  "
      ]
     },
     "execution_count": 1,
     "metadata": {},
     "output_type": "execute_result"
    }
   ],
   "source": [
    "%matplotlib inline\n",
    "from mpl_toolkits.basemap import Basemap\n",
    "import matplotlib.pyplot as plt\n",
    "import numpy as np\n",
    "import os\n",
    "import pandas as pd\n",
    "\n",
    "df = pd.read_csv('data/locations.csv')\n",
    "df.tail()"
   ]
  },
  {
   "cell_type": "code",
   "execution_count": 2,
   "metadata": {
    "collapsed": false
   },
   "outputs": [
    {
     "data": {
      "image/png": "[encoded data removed]",
      "text/plain": [
       "<matplotlib.figure.Figure at 0x111e956d8>"
      ]
     },
     "metadata": {},
     "output_type": "display_data"
    }
   ],
   "source": [
    "# Basemap parameter options here: http://matplotlib.org/basemap/api/basemap_api.html\n",
    "\n",
    "lat_0 = 0\n",
    "lon_0 = 0\n",
    "llcrnrlat = 20\n",
    "llcrnrlon = -140\n",
    "urcrnrlat = 60\n",
    "urcrnrlon = 2\n",
    "\n",
    "fig=plt.figure()\n",
    "m = Basemap(projection='merc', \n",
    "            lat_0=lat_0, lon_0=lon_0, lat_ts=20, area_thresh=500,\n",
    "            llcrnrlon=llcrnrlon,llcrnrlat=llcrnrlat,urcrnrlon=urcrnrlon,urcrnrlat=urcrnrlat,\n",
    "            resolution='l')\n",
    "\n",
    "m.drawmapboundary(fill_color='#FFFFFF')\n",
    "m.fillcontinents(color='#B1B2B4',lake_color='#FFFFFF',zorder=0)\n",
    "\n",
    "m.drawcoastlines(linewidth=0.25, zorder=8)\n",
    "m.drawstates(linewidth=0.25, color='#A8A8A8', zorder=6)\n",
    "m.drawcountries(linewidth=0.25, color='#707070', zorder=7)\n",
    "\n",
    "lat_orig = 35.639255\n",
    "lng_orig = -120.713308\n",
    "lat_des  = 39.961\n",
    "lng_des  = -82.999\n",
    "\n",
    "for row in range(0,df.shape[0]): \n",
    "    lat_orig = df.iloc[row,1]\n",
    "    lng_orig = df.iloc[row,2]\n",
    "    lat_des  = df.iloc[row,4]\n",
    "    lng_des  = df.iloc[row,5]\n",
    "    m.drawgreatcircle(lon1=lng_orig, lat1=lat_orig, lon2=lng_des, lat2=lat_des,\n",
    "                      linewidth=.5,color='#2E5FAC', zorder=9)\n",
    "    x, y = m(lng_orig,lat_orig)\n",
    "    m.scatter(x,y,2,marker='.',edgecolors='#CF5300',c='#CF5300', zorder=10)\n",
    "    x, y = m(lng_des,lat_des)\n",
    "    m.scatter(x,y,2,marker='.',edgecolors='#CF5300',c='#CF5300', zorder=10)\n",
    "\n",
    "plt.show()\n",
    "fig.savefig('2016_travel.png', dpi=1000, bbox_inches='tight')"
   ]
  },
  {
   "cell_type": "code",
   "execution_count": null,
   "metadata": {
    "collapsed": true
   },
   "outputs": [],
   "source": []
  }
 ],
 "metadata": {
  "anaconda-cloud": {},
  "kernelspec": {
   "display_name": "Python [Root]",
   "language": "python",
   "name": "Python [Root]"
  },
  "language_info": {
   "codemirror_mode": {
    "name": "ipython",
    "version": 3
   },
   "file_extension": ".py",
   "mimetype": "text/x-python",
   "name": "python",
   "nbconvert_exporter": "python",
   "pygments_lexer": "ipython3",
   "version": "3.5.2"
  }
 },
 "nbformat": 4,
 "nbformat_minor": 0
}
